{
 "cells": [
  {
   "cell_type": "code",
   "execution_count": 9,
   "metadata": {},
   "outputs": [],
   "source": [
    "%matplotlib inline\n",
    "from matplotlib import style\n",
    "style.use('fivethirtyeight')\n",
    "import matplotlib.pyplot as plt"
   ]
  },
  {
   "cell_type": "code",
   "execution_count": 10,
   "metadata": {},
   "outputs": [],
   "source": [
    "import numpy as np\n",
    "import pandas as pd\n",
    "import datetime as dt"
   ]
  },
  {
   "attachments": {},
   "cell_type": "markdown",
   "metadata": {},
   "source": [
    "# Reflect Tables into SQLAlchemy ORM"
   ]
  },
  {
   "cell_type": "code",
   "execution_count": 11,
   "metadata": {},
   "outputs": [],
   "source": [
    "# Python SQL toolkit and Object Relational Mapper\n",
    "import sqlalchemy\n",
    "from sqlalchemy import inspect\n",
    "from sqlalchemy import text\n",
    "from sqlalchemy.ext.automap import automap_base\n",
    "from sqlalchemy.orm import Session\n",
    "from sqlalchemy import create_engine, func"
   ]
  },
  {
   "cell_type": "code",
   "execution_count": 12,
   "metadata": {},
   "outputs": [],
   "source": [
    "# Create base instance\n",
    "Base = automap_base()"
   ]
  },
  {
   "cell_type": "code",
   "execution_count": 13,
   "metadata": {},
   "outputs": [],
   "source": [
    "# Path to sqlite\n",
    "database_path = \"../Resources/hawaii.sqlite\""
   ]
  },
  {
   "cell_type": "code",
   "execution_count": 14,
   "metadata": {},
   "outputs": [],
   "source": [
    "# create engine to hawaii.sqlite\n",
    "# Create an engine that can talk to the database\n",
    "engine = create_engine(f\"sqlite:///{database_path}\")\n",
    "conn = engine.connect()"
   ]
  },
  {
   "cell_type": "code",
   "execution_count": 15,
   "metadata": {},
   "outputs": [
    {
     "name": "stderr",
     "output_type": "stream",
     "text": [
      "C:\\Users\\kk\\AppData\\Local\\Temp\\ipykernel_12724\\2858000027.py:2: SADeprecationWarning: The AutomapBase.prepare.reflect parameter is deprecated and will be removed in a future release.  Reflection is enabled when AutomapBase.prepare.autoload_with is passed.\n",
      "  Base.prepare(engine, reflect=True)\n"
     ]
    }
   ],
   "source": [
    "# reflect an existing database into a new model\n",
    "Base.prepare(engine, reflect=True)"
   ]
  },
  {
   "cell_type": "code",
   "execution_count": 16,
   "metadata": {},
   "outputs": [
    {
     "name": "stdout",
     "output_type": "stream",
     "text": [
      "['measurement', 'station']\n"
     ]
    }
   ],
   "source": [
    "# Inspect the database and collect the names of included tables\n",
    "\n",
    "with engine.connect() as connect:\n",
    "    inspector = inspect(engine)\n",
    "    print(inspector.get_table_names())\n"
   ]
  },
  {
   "cell_type": "code",
   "execution_count": 17,
   "metadata": {},
   "outputs": [],
   "source": [
    "# Create our two table clasess\n",
    "# Save references to each table\n",
    "Measurement_class = Base.classes.measurement\n",
    "Station_class = Base.classes.station"
   ]
  },
  {
   "cell_type": "code",
   "execution_count": 18,
   "metadata": {},
   "outputs": [
    {
     "data": {
      "text/plain": [
       "['measurement', 'station']"
      ]
     },
     "execution_count": 18,
     "metadata": {},
     "output_type": "execute_result"
    }
   ],
   "source": [
    "# View all of the classes that automap found\n",
    "Base = automap_base()\n",
    "Base.prepare(autoload_with=engine)\n",
    "Base.classes.keys()"
   ]
  },
  {
   "cell_type": "code",
   "execution_count": 19,
   "metadata": {},
   "outputs": [
    {
     "name": "stdout",
     "output_type": "stream",
     "text": [
      "id INTEGER\n",
      "station TEXT\n",
      "date TEXT\n",
      "prcp FLOAT\n",
      "tobs FLOAT\n"
     ]
    }
   ],
   "source": [
    "# Reflect the measurement table columns\n",
    "with engine.connect() as connect:\n",
    "    columns = inspector.get_columns('measurement')\n",
    "    for column_id  in columns:\n",
    "        print(column_id['name'], column_id[\"type\"]) "
   ]
  },
  {
   "cell_type": "code",
   "execution_count": 20,
   "metadata": {},
   "outputs": [],
   "source": [
    "Base = automap_base()\n",
    "Base.prepare(autoload_with=engine)\n",
    "measurement_base = Base.classes.measurement"
   ]
  },
  {
   "cell_type": "code",
   "execution_count": 21,
   "metadata": {},
   "outputs": [],
   "source": [
    "# Build the measurement dataframe\n",
    "measurement_data = pd.read_sql(\"SELECT * FROM measurement\", conn)"
   ]
  },
  {
   "cell_type": "code",
   "execution_count": 22,
   "metadata": {},
   "outputs": [
    {
     "data": {
      "text/html": [
       "<div>\n",
       "<style scoped>\n",
       "    .dataframe tbody tr th:only-of-type {\n",
       "        vertical-align: middle;\n",
       "    }\n",
       "\n",
       "    .dataframe tbody tr th {\n",
       "        vertical-align: top;\n",
       "    }\n",
       "\n",
       "    .dataframe thead th {\n",
       "        text-align: right;\n",
       "    }\n",
       "</style>\n",
       "<table border=\"1\" class=\"dataframe\">\n",
       "  <thead>\n",
       "    <tr style=\"text-align: right;\">\n",
       "      <th></th>\n",
       "      <th>id</th>\n",
       "      <th>station</th>\n",
       "      <th>date</th>\n",
       "      <th>prcp</th>\n",
       "      <th>tobs</th>\n",
       "    </tr>\n",
       "  </thead>\n",
       "  <tbody>\n",
       "    <tr>\n",
       "      <th>0</th>\n",
       "      <td>0</td>\n",
       "      <td>USC00519397</td>\n",
       "      <td>2010-01-01</td>\n",
       "      <td>2.0</td>\n",
       "      <td>18.3</td>\n",
       "    </tr>\n",
       "    <tr>\n",
       "      <th>1</th>\n",
       "      <td>1</td>\n",
       "      <td>USC00519397</td>\n",
       "      <td>2010-01-02</td>\n",
       "      <td>0.0</td>\n",
       "      <td>17.2</td>\n",
       "    </tr>\n",
       "    <tr>\n",
       "      <th>2</th>\n",
       "      <td>2</td>\n",
       "      <td>USC00519397</td>\n",
       "      <td>2010-01-03</td>\n",
       "      <td>0.0</td>\n",
       "      <td>23.3</td>\n",
       "    </tr>\n",
       "    <tr>\n",
       "      <th>3</th>\n",
       "      <td>3</td>\n",
       "      <td>USC00519397</td>\n",
       "      <td>2010-01-04</td>\n",
       "      <td>0.0</td>\n",
       "      <td>24.4</td>\n",
       "    </tr>\n",
       "    <tr>\n",
       "      <th>4</th>\n",
       "      <td>4</td>\n",
       "      <td>USC00519397</td>\n",
       "      <td>2010-01-06</td>\n",
       "      <td>NaN</td>\n",
       "      <td>22.8</td>\n",
       "    </tr>\n",
       "  </tbody>\n",
       "</table>\n",
       "</div>"
      ],
      "text/plain": [
       "   id      station        date  prcp  tobs\n",
       "0   0  USC00519397  2010-01-01   2.0  18.3\n",
       "1   1  USC00519397  2010-01-02   0.0  17.2\n",
       "2   2  USC00519397  2010-01-03   0.0  23.3\n",
       "3   3  USC00519397  2010-01-04   0.0  24.4\n",
       "4   4  USC00519397  2010-01-06   NaN  22.8"
      ]
     },
     "execution_count": 22,
     "metadata": {},
     "output_type": "execute_result"
    }
   ],
   "source": [
    "# Display the data table preview for the measurement dataframe\n",
    "measurement_data.head()"
   ]
  },
  {
   "cell_type": "code",
   "execution_count": 23,
   "metadata": {},
   "outputs": [
    {
     "name": "stdout",
     "output_type": "stream",
     "text": [
      "id INTEGER\n",
      "station TEXT\n",
      "name TEXT\n",
      "latitude FLOAT\n",
      "longitude FLOAT\n",
      "elevation FLOAT\n"
     ]
    }
   ],
   "source": [
    "# Reflect the station table columns\n",
    "with engine.connect() as connect:\n",
    "    columns = inspector.get_columns('station')\n",
    "    for column_id  in columns:\n",
    "        print(column_id['name'], column_id[\"type\"]) "
   ]
  },
  {
   "cell_type": "code",
   "execution_count": 24,
   "metadata": {},
   "outputs": [],
   "source": [
    "Base = automap_base()\n",
    "Base.prepare(autoload_with=engine)\n",
    "Station_base = Base.classes.station"
   ]
  },
  {
   "cell_type": "code",
   "execution_count": 25,
   "metadata": {},
   "outputs": [],
   "source": [
    "# Build the station dataframe\n",
    "station_data_df = pd.read_sql(\"SELECT * FROM station\", conn)"
   ]
  },
  {
   "cell_type": "code",
   "execution_count": 26,
   "metadata": {},
   "outputs": [
    {
     "data": {
      "text/html": [
       "<div>\n",
       "<style scoped>\n",
       "    .dataframe tbody tr th:only-of-type {\n",
       "        vertical-align: middle;\n",
       "    }\n",
       "\n",
       "    .dataframe tbody tr th {\n",
       "        vertical-align: top;\n",
       "    }\n",
       "\n",
       "    .dataframe thead th {\n",
       "        text-align: right;\n",
       "    }\n",
       "</style>\n",
       "<table border=\"1\" class=\"dataframe\">\n",
       "  <thead>\n",
       "    <tr style=\"text-align: right;\">\n",
       "      <th></th>\n",
       "      <th>id</th>\n",
       "      <th>station</th>\n",
       "      <th>name</th>\n",
       "      <th>latitude</th>\n",
       "      <th>longitude</th>\n",
       "      <th>elevation</th>\n",
       "    </tr>\n",
       "  </thead>\n",
       "  <tbody>\n",
       "    <tr>\n",
       "      <th>0</th>\n",
       "      <td>0</td>\n",
       "      <td>USC00519397</td>\n",
       "      <td>WAIKIKI 717.2, HI US</td>\n",
       "      <td>21.27160</td>\n",
       "      <td>-157.81680</td>\n",
       "      <td>0.914</td>\n",
       "    </tr>\n",
       "    <tr>\n",
       "      <th>1</th>\n",
       "      <td>1</td>\n",
       "      <td>USC00513117</td>\n",
       "      <td>KANEOHE 838.1, HI US</td>\n",
       "      <td>21.42340</td>\n",
       "      <td>-157.80150</td>\n",
       "      <td>4.450</td>\n",
       "    </tr>\n",
       "    <tr>\n",
       "      <th>2</th>\n",
       "      <td>2</td>\n",
       "      <td>USC00514830</td>\n",
       "      <td>KUALOA RANCH HEADQUARTERS 886.9, HI US</td>\n",
       "      <td>21.52130</td>\n",
       "      <td>-157.83740</td>\n",
       "      <td>2.133</td>\n",
       "    </tr>\n",
       "    <tr>\n",
       "      <th>3</th>\n",
       "      <td>3</td>\n",
       "      <td>USC00517948</td>\n",
       "      <td>PEARL CITY, HI US</td>\n",
       "      <td>21.39340</td>\n",
       "      <td>-157.97510</td>\n",
       "      <td>3.627</td>\n",
       "    </tr>\n",
       "    <tr>\n",
       "      <th>4</th>\n",
       "      <td>4</td>\n",
       "      <td>USC00518838</td>\n",
       "      <td>UPPER WAHIAWA 874.3, HI US</td>\n",
       "      <td>21.49920</td>\n",
       "      <td>-158.01110</td>\n",
       "      <td>93.447</td>\n",
       "    </tr>\n",
       "    <tr>\n",
       "      <th>5</th>\n",
       "      <td>5</td>\n",
       "      <td>USC00519523</td>\n",
       "      <td>WAIMANALO EXPERIMENTAL FARM, HI US</td>\n",
       "      <td>21.33556</td>\n",
       "      <td>-157.71139</td>\n",
       "      <td>5.943</td>\n",
       "    </tr>\n",
       "    <tr>\n",
       "      <th>6</th>\n",
       "      <td>6</td>\n",
       "      <td>USC00519281</td>\n",
       "      <td>WAIHEE 837.5, HI US</td>\n",
       "      <td>21.45167</td>\n",
       "      <td>-157.84889</td>\n",
       "      <td>10.027</td>\n",
       "    </tr>\n",
       "    <tr>\n",
       "      <th>7</th>\n",
       "      <td>7</td>\n",
       "      <td>USC00511918</td>\n",
       "      <td>HONOLULU OBSERVATORY 702.2, HI US</td>\n",
       "      <td>21.31520</td>\n",
       "      <td>-157.99920</td>\n",
       "      <td>0.274</td>\n",
       "    </tr>\n",
       "    <tr>\n",
       "      <th>8</th>\n",
       "      <td>8</td>\n",
       "      <td>USC00516128</td>\n",
       "      <td>MANOA LYON ARBO 785.2, HI US</td>\n",
       "      <td>21.33310</td>\n",
       "      <td>-157.80250</td>\n",
       "      <td>46.449</td>\n",
       "    </tr>\n",
       "  </tbody>\n",
       "</table>\n",
       "</div>"
      ],
      "text/plain": [
       "   id      station                                    name  latitude   \n",
       "0   0  USC00519397                    WAIKIKI 717.2, HI US  21.27160  \\\n",
       "1   1  USC00513117                    KANEOHE 838.1, HI US  21.42340   \n",
       "2   2  USC00514830  KUALOA RANCH HEADQUARTERS 886.9, HI US  21.52130   \n",
       "3   3  USC00517948                       PEARL CITY, HI US  21.39340   \n",
       "4   4  USC00518838              UPPER WAHIAWA 874.3, HI US  21.49920   \n",
       "5   5  USC00519523      WAIMANALO EXPERIMENTAL FARM, HI US  21.33556   \n",
       "6   6  USC00519281                     WAIHEE 837.5, HI US  21.45167   \n",
       "7   7  USC00511918       HONOLULU OBSERVATORY 702.2, HI US  21.31520   \n",
       "8   8  USC00516128            MANOA LYON ARBO 785.2, HI US  21.33310   \n",
       "\n",
       "   longitude  elevation  \n",
       "0 -157.81680      0.914  \n",
       "1 -157.80150      4.450  \n",
       "2 -157.83740      2.133  \n",
       "3 -157.97510      3.627  \n",
       "4 -158.01110     93.447  \n",
       "5 -157.71139      5.943  \n",
       "6 -157.84889     10.027  \n",
       "7 -157.99920      0.274  \n",
       "8 -157.80250     46.449  "
      ]
     },
     "execution_count": 26,
     "metadata": {},
     "output_type": "execute_result"
    }
   ],
   "source": [
    "# Display the data table preview for the station dataframe\n",
    "station_data_df.head(10)"
   ]
  },
  {
   "cell_type": "code",
   "execution_count": 27,
   "metadata": {},
   "outputs": [],
   "source": [
    "# Create our session (link) from Python to the DB\n",
    "from sqlalchemy.orm import Session\n",
    "Base.metadata.create_all(engine)\n",
    "session = Session(bind=engine)"
   ]
  },
  {
   "attachments": {},
   "cell_type": "markdown",
   "metadata": {},
   "source": [
    "# Exploratory Precipitation Analysis"
   ]
  },
  {
   "cell_type": "code",
   "execution_count": 28,
   "metadata": {},
   "outputs": [
    {
     "data": {
      "text/plain": [
       "('2017-08-23',)"
      ]
     },
     "execution_count": 28,
     "metadata": {},
     "output_type": "execute_result"
    }
   ],
   "source": [
    "# Find the most recent date in the data set.\n",
    "\n",
    "session.query(measurement_base.date).order_by(measurement_base.date.desc()).first()\n",
    "# reading_date = session.query(Measurement_class.date).first()\n",
    "# for date in reading_date:\n",
    "#     print(date.date)"
   ]
  },
  {
   "cell_type": "code",
   "execution_count": 29,
   "metadata": {},
   "outputs": [
    {
     "name": "stdout",
     "output_type": "stream",
     "text": [
      "            Date  Precipitation_Score\n",
      "0     2016-08-24                  2.0\n",
      "1     2016-08-24                 54.6\n",
      "2     2016-08-24                 57.9\n",
      "3     2016-08-24                  NaN\n",
      "4     2016-08-24                 31.0\n",
      "...          ...                  ...\n",
      "2218  2017-08-22                 12.7\n",
      "2219  2017-08-23                  0.0\n",
      "2220  2017-08-23                  0.0\n",
      "2221  2017-08-23                  2.0\n",
      "2222  2017-08-23                 11.4\n",
      "\n",
      "[2223 rows x 2 columns]\n"
     ]
    }
   ],
   "source": [
    "# Design a query to retrieve the last 12 months of precipitation data and plot the results. \n",
    "# Starting from the most recent data point in the database. \n",
    "# Calculate the date one year from the last date in data set.\n",
    "# Perform a query to retrieve the data and precipitation scores\n",
    "# Save the query results as a Pandas DataFrame. Explicitly set the column names\n",
    "# Sort the dataframe by date\n",
    "\n",
    "bar_data =session.query(measurement_base.date).\\\n",
    "    with_entities(measurement_base.date, measurement_base.prcp) .\\\n",
    "        filter(measurement_base.date > '2016-08-23').\\\n",
    "        order_by(measurement_base.date).all()\n",
    "\n",
    "bar_data_df = pd.DataFrame(bar_data, columns=['Date', 'Precipitation_Score'])\n",
    "print(bar_data_df)\n"
   ]
  },
  {
   "cell_type": "code",
   "execution_count": 36,
   "metadata": {},
   "outputs": [
    {
     "data": {
      "image/png": "[encoded data removed]",
      "text/plain": [
       "<Figure size 2000x1000 with 1 Axes>"
      ]
     },
     "metadata": {},
     "output_type": "display_data"
    }
   ],
   "source": [
    "# Use Pandas Plotting with Matplotlib to plot the data\n",
    "bar_data_chart = bar_data_df\n",
    "precipitation_data = bar_data_df.Precipitation_Score\n",
    "date_data = bar_data_df.Date\n",
    "fig = plt.figure(figsize = (20, 10))\n",
    "plt.xticks(np.arange(0, len(date_data)+1, 25))\n",
    "plt.yticks(np.arange(0, max(precipitation_data), 25))\n",
    "plt.xticks(rotation=60)\n",
    "plt.style.use('default')\n",
    "plt.xlabel(\"Date\")\n",
    "plt.ylabel(\"Precipitation Score (mm)\")\n",
    "plt.title(\"12 Months of Precipitation Data\")\n",
    " \n",
    "# creating the bar plot\n",
    "plt.bar(date_data, precipitation_data, color ='blue',)\n",
    "\n",
    "plt.show()"
   ]
  },
  {
   "cell_type": "code",
   "execution_count": 37,
   "metadata": {},
   "outputs": [
    {
     "data": {
      "text/html": [
       "<div>\n",
       "<style scoped>\n",
       "    .dataframe tbody tr th:only-of-type {\n",
       "        vertical-align: middle;\n",
       "    }\n",
       "\n",
       "    .dataframe tbody tr th {\n",
       "        vertical-align: top;\n",
       "    }\n",
       "\n",
       "    .dataframe thead th {\n",
       "        text-align: right;\n",
       "    }\n",
       "</style>\n",
       "<table border=\"1\" class=\"dataframe\">\n",
       "  <thead>\n",
       "    <tr style=\"text-align: right;\">\n",
       "      <th></th>\n",
       "      <th>Precipitation_Score</th>\n",
       "    </tr>\n",
       "  </thead>\n",
       "  <tbody>\n",
       "    <tr>\n",
       "      <th>count</th>\n",
       "      <td>2015.000000</td>\n",
       "    </tr>\n",
       "    <tr>\n",
       "      <th>mean</th>\n",
       "      <td>4.485112</td>\n",
       "    </tr>\n",
       "    <tr>\n",
       "      <th>std</th>\n",
       "      <td>11.690532</td>\n",
       "    </tr>\n",
       "    <tr>\n",
       "      <th>min</th>\n",
       "      <td>0.000000</td>\n",
       "    </tr>\n",
       "    <tr>\n",
       "      <th>25%</th>\n",
       "      <td>0.000000</td>\n",
       "    </tr>\n",
       "    <tr>\n",
       "      <th>50%</th>\n",
       "      <td>0.500000</td>\n",
       "    </tr>\n",
       "    <tr>\n",
       "      <th>75%</th>\n",
       "      <td>3.300000</td>\n",
       "    </tr>\n",
       "    <tr>\n",
       "      <th>max</th>\n",
       "      <td>170.200000</td>\n",
       "    </tr>\n",
       "  </tbody>\n",
       "</table>\n",
       "</div>"
      ],
      "text/plain": [
       "       Precipitation_Score\n",
       "count          2015.000000\n",
       "mean              4.485112\n",
       "std              11.690532\n",
       "min               0.000000\n",
       "25%               0.000000\n",
       "50%               0.500000\n",
       "75%               3.300000\n",
       "max             170.200000"
      ]
     },
     "execution_count": 37,
     "metadata": {},
     "output_type": "execute_result"
    }
   ],
   "source": [
    "# Use Pandas to calculate the summary statistics for the precipitation data\n",
    "precipitation_data_df =pd.DataFrame(precipitation_data).dropna()\n",
    "precipitation_data_df.describe()"
   ]
  },
  {
   "attachments": {},
   "cell_type": "markdown",
   "metadata": {},
   "source": [
    "# Exploratory Station Analysis"
   ]
  },
  {
   "cell_type": "code",
   "execution_count": 38,
   "metadata": {},
   "outputs": [
    {
     "data": {
      "text/plain": [
       "9"
      ]
     },
     "execution_count": 38,
     "metadata": {},
     "output_type": "execute_result"
    }
   ],
   "source": [
    "# Design a query to calculate the total number of stations in the dataset\n",
    "station_data_df['station'].nunique()"
   ]
  },
  {
   "cell_type": "code",
   "execution_count": 39,
   "metadata": {},
   "outputs": [
    {
     "name": "stdout",
     "output_type": "stream",
     "text": [
      "        id_x      station        date  prcp  tobs  id_y   \n",
      "0          0  USC00519397  2010-01-01   2.0  18.3     0  \\\n",
      "1          1  USC00519397  2010-01-02   0.0  17.2     0   \n",
      "2          2  USC00519397  2010-01-03   0.0  23.3     0   \n",
      "3          3  USC00519397  2010-01-04   0.0  24.4     0   \n",
      "4          4  USC00519397  2010-01-06   0.0  22.8     0   \n",
      "...      ...          ...         ...   ...   ...   ...   \n",
      "19545  19545  USC00516128  2017-08-19   2.3  21.7     8   \n",
      "19546  19546  USC00516128  2017-08-20   0.0  25.6     8   \n",
      "19547  19547  USC00516128  2017-08-21  14.2  24.4     8   \n",
      "19548  19548  USC00516128  2017-08-22  12.7  24.4     8   \n",
      "19549  19549  USC00516128  2017-08-23  11.4  24.4     8   \n",
      "\n",
      "                               name  latitude  longitude  elevation  \n",
      "0              WAIKIKI 717.2, HI US   21.2716  -157.8168      0.914  \n",
      "1              WAIKIKI 717.2, HI US   21.2716  -157.8168      0.914  \n",
      "2              WAIKIKI 717.2, HI US   21.2716  -157.8168      0.914  \n",
      "3              WAIKIKI 717.2, HI US   21.2716  -157.8168      0.914  \n",
      "4              WAIKIKI 717.2, HI US   21.2716  -157.8168      0.914  \n",
      "...                             ...       ...        ...        ...  \n",
      "19545  MANOA LYON ARBO 785.2, HI US   21.3331  -157.8025     46.449  \n",
      "19546  MANOA LYON ARBO 785.2, HI US   21.3331  -157.8025     46.449  \n",
      "19547  MANOA LYON ARBO 785.2, HI US   21.3331  -157.8025     46.449  \n",
      "19548  MANOA LYON ARBO 785.2, HI US   21.3331  -157.8025     46.449  \n",
      "19549  MANOA LYON ARBO 785.2, HI US   21.3331  -157.8025     46.449  \n",
      "\n",
      "[19550 rows x 10 columns]\n"
     ]
    }
   ],
   "source": [
    "# Design a query to find the most active stations (i.e. which stations have the most rows?)\n",
    "Combined_Data_df = pd.merge(measurement_data, station_data_df, on=\"station\", how=\"left\")\n",
    "Combined_Data_df = Combined_Data_df.fillna(0)\n",
    "print(Combined_Data_df)"
   ]
  },
  {
   "cell_type": "code",
   "execution_count": 48,
   "metadata": {},
   "outputs": [
    {
     "name": "stdout",
     "output_type": "stream",
     "text": [
      "[['USC00519281', 2772], ['USC00519397', 2724], ['USC00513117', 2709], ['USC00519523', 2669], ['USC00516128', 2612], ['USC00514830', 2202], ['USC00511918', 1979], ['USC00517948', 1372], ['USC00518838', 511]]\n"
     ]
    }
   ],
   "source": [
    "# List the stations and their counts in descending order.# \n",
    "Combined_Data_agg_df = Combined_Data_df.groupby(['station']).count()\n",
    "Combined_Data_agg_df = Combined_Data_agg_df.rename(columns={'id_x' :\"Number_of_Records\"})\n",
    "Combined_Data_agg_df = Combined_Data_agg_df.drop(['date', 'tobs', 'id_y' ,'latitude', 'name', 'elevation', 'prcp', 'longitude'], axis=1).sort_values(by=['Number_of_Records'], ascending=False)\n",
    "Combined_Data_agg_df = Combined_Data_agg_df.reset_index()\n",
    "Combined_count_list =Combined_Data_agg_df.values.tolist()\n",
    "print(Combined_count_list)\n"
   ]
  },
  {
   "cell_type": "code",
   "execution_count": 67,
   "metadata": {},
   "outputs": [
    {
     "name": "stdout",
     "output_type": "stream",
     "text": [
      "12.2, 29.4, 22.035822510822513\n"
     ]
    }
   ],
   "source": [
    "# Using the most active station id from the previous query, calculate the lowest, highest, and average temperature.\n",
    "USC00519281_data = Combined_Data_df.copy()\n",
    "USC00519281_data_cut = USC00519281_data.loc[USC00519281_data['station'] == 'USC00519281']\n",
    "USC00519281_data_cut = USC00519281_data_cut['tobs']\n",
    "USC00519281_min_tobs = USC00519281_data_cut.min()\n",
    "USC00519281_max_tobs = USC00519281_data_cut.max()\n",
    "USC00519281_mean_tobs = USC00519281_data_cut.mean()\n",
    "USC00519281_list = [USC00519281_min_tobs, USC00519281_max_tobs, USC00519281_mean_tobs]\n",
    "print (*USC00519281_list, sep=\", \")"
   ]
  },
  {
   "cell_type": "code",
   "execution_count": 124,
   "metadata": {},
   "outputs": [
    {
     "name": "stdout",
     "output_type": "stream",
     "text": [
      "      index        date  tobs\n",
      "0     19441  2017-04-30  14.4\n",
      "1     14770  2017-02-02  15.0\n",
      "2     14776  2017-02-08  15.0\n",
      "3     14777  2017-02-09  15.0\n",
      "4      2501  2017-01-08  15.6\n",
      "...     ...         ...   ...\n",
      "2218  12166  2017-07-30  28.9\n",
      "2219  11862  2016-09-05  28.9\n",
      "2220  12183  2017-08-19  29.4\n",
      "2221   8990  2017-07-03  30.6\n",
      "2222   2635  2017-05-23  30.6\n",
      "\n",
      "[2223 rows x 3 columns]\n"
     ]
    }
   ],
   "source": [
    "# Using the most active station id\n",
    "# Query the last 12 months of temperature observation data for this station and plot the results as a histogram\n",
    "USC00519281_data_histogram = Combined_Data_df.copy()\n",
    "USC00519281_data_histogram = pd.DataFrame(USC00519281_data_histogram)\n",
    "USC00519281_data_histogram = USC00519281_data_histogram.loc[USC00519281_data_histogram['date'] > '2016-08-23']\n",
    "USC00519281_data_histogram = USC00519281_data_histogram.drop(['id_x', 'station', 'id_y' ,'latitude', 'name', 'elevation', 'prcp', 'longitude'], axis=1).sort_values(by=[\"tobs\"], ascending=True)\n",
    "USC00519281_data_histogram = pd.DataFrame(USC00519281_data_histogram)\n",
    "USC00519281_data_histogram = USC00519281_data_histogram.reset_index()\n",
    "print(USC00519281_data_histogram)"
   ]
  },
  {
   "cell_type": "code",
   "execution_count": 135,
   "metadata": {},
   "outputs": [
    {
     "data": {
      "image/png": "[encoded data removed]",
      "text/plain": [
       "<Figure size 640x480 with 1 Axes>"
      ]
     },
     "metadata": {},
     "output_type": "display_data"
    }
   ],
   "source": [
    "hist_data_chart = USC00519281_data_histogram\n",
    "# y = USC00519281_data_histogram.date\n",
    "x = USC00519281_data_histogram.tobs\n",
    "# fig = plt.figure(figsize = (20, 10))\n",
    "# plt.style.use('default')\n",
    "plt.xlabel(\"Temperature\")\n",
    "plt.ylabel(\"Frequency\")\n",
    "# plt.title(\"Temperature Frequency Data for Station USC00519281\")\n",
    "\n",
    "plt.hist(x, color ='blue', bins=12)\n",
    "plt.show() \n"
   ]
  },
  {
   "attachments": {},
   "cell_type": "markdown",
   "metadata": {},
   "source": [
    "# Close Session"
   ]
  },
  {
   "cell_type": "code",
   "execution_count": 132,
   "metadata": {},
   "outputs": [],
   "source": [
    "# Close Session\n",
    "session.close()"
   ]
  },
  {
   "cell_type": "code",
   "execution_count": null,
   "metadata": {},
   "outputs": [],
   "source": []
  }
 ],
 "metadata": {
  "anaconda-cloud": {},
  "kernel_info": {
   "name": "python3"
  },
  "kernelspec": {
   "display_name": "Python 3 (ipykernel)",
   "language": "python",
   "name": "python3"
  },
  "language_info": {
   "codemirror_mode": {
    "name": "ipython",
    "version": 3
   },
   "file_extension": ".py",
   "mimetype": "text/x-python",
   "name": "python",
   "nbconvert_exporter": "python",
   "pygments_lexer": "ipython3",
   "version": "3.11.3"
  },
  "nteract": {
   "version": "0.12.3"
  },
  "varInspector": {
   "cols": {
    "lenName": 16,
    "lenType": 16,
    "lenVar": 40
   },
   "kernels_config": {
    "python": {
     "delete_cmd_postfix": "",
     "delete_cmd_prefix": "del ",
     "library": "var_list.py",
     "varRefreshCmd": "print(var_dic_list())"
    },
    "r": {
     "delete_cmd_postfix": ") ",
     "delete_cmd_prefix": "rm(",
     "library": "var_list.r",
     "varRefreshCmd": "cat(var_dic_list()) "
    }
   },
   "types_to_exclude": [
    "module",
    "function",
    "builtin_function_or_method",
    "instance",
    "_Feature"
   ],
   "window_display": false
  }
 },
 "nbformat": 4,
 "nbformat_minor": 2
}
